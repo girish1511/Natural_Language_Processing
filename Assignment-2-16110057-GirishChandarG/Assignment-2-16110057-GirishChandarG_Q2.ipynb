{
 "cells": [
  {
   "cell_type": "code",
   "execution_count": null,
   "metadata": {},
   "outputs": [],
   "source": [
    "import numpy as np\n",
    "from nltk.tokenize import sent_tokenize,word_tokenize\n",
    "from tensorflow import keras\n",
    "import tensorflow as tf\n",
    "from keras.preprocessing.sequence import pad_sequences\n",
    "from keras.preprocessing.text import Tokenizer\n",
    "from keras.utils import to_categorical\n",
    "from keras.models import Sequential\n",
    "from keras.layers import Dense, SimpleRNN, Activation, Embedding, LSTM\n",
    "from keras import optimizers"
   ]
  },
  {
   "cell_type": "markdown",
   "metadata": {},
   "source": [
    "# Question 2"
   ]
  },
  {
   "cell_type": "code",
   "execution_count": null,
   "metadata": {},
   "outputs": [],
   "source": [
    "import nltk\n",
    "nltk.download('punkt')"
   ]
  },
  {
   "cell_type": "code",
   "execution_count": null,
   "metadata": {},
   "outputs": [],
   "source": [
    "with open('jane_austen.txt','r') as f:\n",
    "    data = f.read()\n",
    "    f.close()\n",
    "data = data.lower()"
   ]
  },
  {
   "cell_type": "code",
   "execution_count": null,
   "metadata": {},
   "outputs": [],
   "source": [
    "sent_list = sent_tokenize(data)"
   ]
  },
  {
   "cell_type": "code",
   "execution_count": null,
   "metadata": {},
   "outputs": [],
   "source": [
    "sent_words=[]\n",
    "words={}\n",
    "mod_sent_list=[]\n",
    "for s in sent_list:\n",
    "    temp = word_tokenize(s)\n",
    "    w_list=['sss']\n",
    "    for w in temp:\n",
    "        if w.isalpha() or (('-' in w) and len(w)>1):\n",
    "            w_list.append(w)\n",
    "            if w not in words:\n",
    "                words[w] = 1\n",
    "            else:\n",
    "                words[w]+=1\n",
    "    w_list.append('eee')\n",
    "    sent_words.append(w_list)\n",
    "    mod_sent_list.append(' '.join(w_list))\n",
    "mod_corpus = ' '.join(mod_sent_list)\n",
    "words['sss']=len(sent_list)\n",
    "words['eee']=len(sent_list)"
   ]
  },
  {
   "cell_type": "code",
   "execution_count": null,
   "metadata": {},
   "outputs": [],
   "source": [
    "tokens = word_tokenize(mod_corpus)"
   ]
  },
  {
   "cell_type": "code",
   "execution_count": null,
   "metadata": {},
   "outputs": [],
   "source": [
    "def train_test_split(train_split, sent_list):\n",
    "    l = np.shape(sent_list)[0]\n",
    "    tr_ind = int(train_split*l)\n",
    "    train_data = sent_list[:tr_ind]\n",
    "    test_data = sent_list[tr_ind:]\n",
    "    return train_data, test_data"
   ]
  },
  {
   "cell_type": "code",
   "execution_count": null,
   "metadata": {},
   "outputs": [],
   "source": [
    "train_data, test_data = train_test_split(0.8, mod_sent_list)"
   ]
  },
  {
   "cell_type": "code",
   "execution_count": null,
   "metadata": {},
   "outputs": [],
   "source": [
    "tokenizer = Tokenizer()\n",
    "tokenizer.fit_on_texts(tokens)\n",
    "N = len(tokenizer.word_index) + 1"
   ]
  },
  {
   "cell_type": "code",
   "execution_count": null,
   "metadata": {},
   "outputs": [],
   "source": [
    "print(train_data[1])\n",
    "tokenizer.texts_to_sequences([train_data[1]])"
   ]
  },
  {
   "cell_type": "code",
   "execution_count": null,
   "metadata": {},
   "outputs": [],
   "source": [
    "input_sequences = []\n",
    "for s in train_data:\n",
    "    token_num = tokenizer.texts_to_sequences([s])[0]\n",
    "    for i in range(0, len(token_num)):\n",
    "            n_gram_sequence = token_num[:i+1]\n",
    "            input_sequences.append(n_gram_sequence)\n",
    "max_sequence_len = max([len(x) for x in input_sequences])\n",
    "input_sequences = np.array(pad_sequences(input_sequences, maxlen=max_sequence_len, padding='pre'))\n",
    "\n",
    "predictors, label = input_sequences[:,:-1],input_sequences[:,-1]\n",
    "label = to_categorical(label, num_classes=N)"
   ]
  },
  {
   "cell_type": "code",
   "execution_count": null,
   "metadata": {},
   "outputs": [],
   "source": [
    "def LSTM_model(N,max_sequence_len):\n",
    "    model = Sequential()\n",
    "    model.add(Embedding(N, 10, input_length=max_sequence_len-1))\n",
    "#     model.add(LSTM(150, return_sequences = True))\n",
    "    model.add(LSTM(100))\n",
    "    model.add(Dense(N, activation='softmax'))\n",
    "    \n",
    "    adam = optimizers.Adam(lr = 0.1)\n",
    "    model.compile(loss='categorical_crossentropy', optimizer=adam, metrics=['accuracy'])\n",
    "    return model\n",
    "\n",
    "def vanilla_RNN(N,max_sequence_len):\n",
    "    model = Sequential()\n",
    "    model.add(Embedding(N, 30, input_length=max_sequence_len-1))\n",
    "    model.add(SimpleRNN(50, input_shape = (30,1)))\n",
    "    model.add(Dense(N, activation='softmax'))\n",
    "    \n",
    "    adam = optimizers.Adam(lr = 0.001)\n",
    "    model.compile(loss='categorical_crossentropy', optimizer=adam, metrics=['accuracy'])\n",
    "    return model"
   ]
  },
  {
   "cell_type": "code",
   "execution_count": null,
   "metadata": {},
   "outputs": [],
   "source": [
    "rnn = vanilla_RNN(N,max_sequence_len)\n",
    "lstm = LSTM_model(N,max_sequence_len)\n",
    "\n",
    "rnn.fit(predictors[:1000,:],label[:1000,:],epochs=10)\n",
    "lstm.fit(predictors[:1000,:],label[:1000,:],epochs=10)"
   ]
  },
  {
   "cell_type": "markdown",
   "metadata": {},
   "source": [
    "Since the training was taking too much time, RNN and LSTM model were run only for 1000 sentences."
   ]
  },
  {
   "cell_type": "code",
   "execution_count": null,
   "metadata": {},
   "outputs": [],
   "source": [
    "rnn_text=['are']\n",
    "while(True):\n",
    "    token_num = tokenizer.texts_to_sequences([rnn_text])[0]\n",
    "    token_num = pad_sequences([token_num], maxlen=max_sequence_len-1, padding='pre')\n",
    "    pred = rnn.predict_classes(token_num, verbose=1)\n",
    "    for w, ind in tokenizer.word_index.items():\n",
    "        if ind == pred:\n",
    "            rnn_text.append(w)\n",
    "            break\n",
    "    if w == 'eee':\n",
    "        break\n",
    "lstm_text=['sss']\n",
    "while(True):\n",
    "    token_num = tokenizer.texts_to_sequences(lstm_text)[0]\n",
    "    token_num = pad_sequences([token_num], maxlen=max_sequence_len-1, padding='pre')\n",
    "    pred = lstm.predict_classes(token_num, verbose=0)\n",
    "    for w, ind in tokenizer.word_index.items():\n",
    "        if ind == pred:\n",
    "            lstm_text.append(w)\n",
    "            break\n",
    "    if w == 'eee':\n",
    "        break"
   ]
  },
  {
   "cell_type": "code",
   "execution_count": 66,
   "metadata": {
    "scrolled": true
   },
   "outputs": [
    {
     "name": "stdout",
     "output_type": "stream",
     "text": [
      "Text generated from RNN:  ['are', 'the', 'the', 'the', 'the', 'the', 'the', 'the', 'the', 'the', 'the', 'the', 'the', 'the', 'the', 'the', 'the', 'the', 'the', 'the', 'the', 'the', 'the', 'the', 'the', 'the', 'the', 'the', 'the', 'the', 'the', 'the', 'the', 'the', 'the', 'the', 'the', 'the', 'the', 'the', 'the', 'the', 'the', 'the', 'the', 'the', 'the', 'the', 'the', 'the', 'the', 'the']\n",
      "Text generated from LSTM:  ['sss', 'of', 'of', 'of', 'of', 'of', 'of', 'of', 'of', 'of', 'of', 'of', 'of', 'of', 'of', 'of', 'of', 'of', 'of', 'of', 'of', 'of', 'of', 'of', 'of', 'of', 'of', 'of', 'of', 'of', 'of', 'of', 'of', 'of', 'of', 'of']\n"
     ]
    }
   ],
   "source": [
    "print('Text generated from RNN: ',rnn_text)\n",
    "print('Text generated from LSTM: ',lstm_text)"
   ]
  },
  {
   "cell_type": "markdown",
   "metadata": {},
   "source": [
    "Since the model was only run over 1000 sentences, the generated text is biased towards the 'the' and 'of' for the models RNN and LSTM respectively."
   ]
  },
  {
   "cell_type": "code",
   "execution_count": 65,
   "metadata": {},
   "outputs": [
    {
     "name": "stdout",
     "output_type": "stream",
     "text": [
      "Perplexity on vanilla RNN model:  253.93716074496\n",
      "Perplexity on LSTM:  262.9122704384553\n"
     ]
    }
   ],
   "source": [
    "rnn_perp = np.exp(rnn.history.history['loss'][-1])\n",
    "lstm_perp = np.exp(lstm.history.history['loss'][-1])\n",
    "\n",
    "print('Perplexity on vanilla RNN model: ',rnn_perp)\n",
    "print('Perplexity on LSTM: ',lstm_perp)"
   ]
  },
  {
   "cell_type": "markdown",
   "metadata": {},
   "source": [
    "The perplexity is calculated as $e^{loss of the model}$"
   ]
  },
  {
   "cell_type": "markdown",
   "metadata": {},
   "source": [
    "Neural model tends to behave better as it can assert long distance relationship between the words whereas N-grams can only do that upto some extent. Since the model in this assignment wasn't trained completely, the power of the RNN and LSTM is not visible."
   ]
  },
  {
   "cell_type": "markdown",
   "metadata": {},
   "source": [
    "Reference:\n",
    "    https://medium.com/@shivambansal36/language-modelling-text-generation-using-lstms-deep-learning-for-nlp-ed36b224b275\n",
    "Collaborated with Prateek Chennuri(16110042)"
   ]
  },
  {
   "cell_type": "code",
   "execution_count": null,
   "metadata": {},
   "outputs": [],
   "source": []
  }
 ],
 "metadata": {
  "kernelspec": {
   "display_name": "Python 3",
   "language": "python",
   "name": "python3"
  },
  "language_info": {
   "codemirror_mode": {
    "name": "ipython",
    "version": 3
   },
   "file_extension": ".py",
   "mimetype": "text/x-python",
   "name": "python",
   "nbconvert_exporter": "python",
   "pygments_lexer": "ipython3",
   "version": "3.6.8"
  }
 },
 "nbformat": 4,
 "nbformat_minor": 2
}
