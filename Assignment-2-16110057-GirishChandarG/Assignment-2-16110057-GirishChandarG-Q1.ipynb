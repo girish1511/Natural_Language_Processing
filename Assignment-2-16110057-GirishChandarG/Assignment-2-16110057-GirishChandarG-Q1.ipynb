{
 "cells": [
  {
   "cell_type": "code",
   "execution_count": 22,
   "metadata": {},
   "outputs": [
    {
     "name": "stderr",
     "output_type": "stream",
     "text": [
      "/Users/girish/anaconda3/lib/python3.6/importlib/_bootstrap.py:219: RuntimeWarning: compiletime version 3.5 of module 'tensorflow.python.framework.fast_tensor_util' does not match runtime version 3.6\n",
      "  return f(*args, **kwds)\n",
      "Using TensorFlow backend.\n"
     ]
    }
   ],
   "source": [
    "import numpy as np\n",
    "from nltk.util import ngrams\n",
    "from nltk.tokenize import sent_tokenize,word_tokenize\n",
    "from tensorflow import keras\n",
    "import tensorflow as tf\n",
    "from keras.preprocessing.sequence import pad_sequences\n",
    "from keras.preprocessing.text import Tokenizer\n",
    "from keras.utils import to_categorical\n",
    "from keras.models import Sequential\n",
    "from keras.layers import Dense, SimpleRNN, Activation, Embedding, LSTM\n",
    "from keras import optimizers"
   ]
  },
  {
   "cell_type": "markdown",
   "metadata": {},
   "source": [
    "# Question 1"
   ]
  },
  {
   "cell_type": "code",
   "execution_count": 2,
   "metadata": {},
   "outputs": [],
   "source": [
    "with open('jane_austen.txt','r') as f:\n",
    "    data = f.read()\n",
    "    f.close()\n",
    "data = data.lower()"
   ]
  },
  {
   "cell_type": "code",
   "execution_count": 3,
   "metadata": {},
   "outputs": [],
   "source": [
    "sent_list = sent_tokenize(data)\n",
    "\n",
    "def train_test_split(train_split, sent_list):\n",
    "    l = np.shape(sent_list)[0]\n",
    "    tr_ind = int(train_split*l)\n",
    "    train_data = sent_list[:tr_ind]\n",
    "    test_data = sent_list[tr_ind:]\n",
    "    return train_data, test_data\n",
    "\n",
    "train_data, test_data = train_test_split(0.8, sent_list)"
   ]
  },
  {
   "cell_type": "code",
   "execution_count": 4,
   "metadata": {},
   "outputs": [],
   "source": [
    "sent_words=[]\n",
    "words={}\n",
    "mod_sent_list=[]\n",
    "for s in train_data:\n",
    "    w_list=['<s>']\n",
    "    temp = word_tokenize(s)\n",
    "    for w in temp:\n",
    "        if w.isalpha() or (('-' in w) and len(w)>1):\n",
    "            w_list.append(w)\n",
    "            if w not in words:\n",
    "                words[w] = 1\n",
    "            else:\n",
    "                words[w]+=1\n",
    "    w_list.append('</s>')\n",
    "    sent_words.append(w_list)\n",
    "    mod_sent_list.append(' '.join(w_list))"
   ]
  },
  {
   "cell_type": "code",
   "execution_count": 5,
   "metadata": {},
   "outputs": [],
   "source": [
    "words['<s>']=len(train_data)\n",
    "words['</s>']=len(train_data)"
   ]
  },
  {
   "cell_type": "code",
   "execution_count": 6,
   "metadata": {},
   "outputs": [],
   "source": [
    "N = len(words)\n",
    "uni_gram = np.zeros((N,))\n",
    "bi_gram = np.zeros((N,N))\n",
    "tri_gram = np.zeros((N,N,N))\n",
    "# quad_gram = np.empty((N,N,N,N))\n",
    "vocab = list(words.keys())\n",
    "vocab_ind={}\n",
    "for i,x in enumerate(words):\n",
    "    vocab_ind[x] = i\n",
    "c_w = np.array(list(words.values()))"
   ]
  },
  {
   "cell_type": "code",
   "execution_count": 7,
   "metadata": {},
   "outputs": [],
   "source": [
    "for s in sent_words:\n",
    "    for g in words.keys():\n",
    "        uni_gram[vocab_ind[g]] = words[g]\n",
    "    grams = list(ngrams(s,2))\n",
    "    for g in grams:\n",
    "        w_i = vocab_ind[g[0]]\n",
    "        w_j = vocab_ind[g[1]]\n",
    "        bi_gram[w_i,w_j]+=1\n",
    "    grams = list(ngrams(s,3))\n",
    "    for g in grams:\n",
    "        w_i = vocab_ind[g[0]]\n",
    "        w_j = vocab_ind[g[1]]\n",
    "        w_k = vocab_ind[g[2]]\n",
    "        tri_gram[w_i,w_j,w_k]+=1"
   ]
  },
  {
   "cell_type": "code",
   "execution_count": 8,
   "metadata": {},
   "outputs": [],
   "source": [
    "mle_uni = np.zeros(uni_gram.shape)\n",
    "mle_bi = np.zeros(bi_gram.shape)\n",
    "mle_tri = np.zeros(tri_gram.shape)\n",
    "mle_uni = uni_gram/sum(uni_gram)\n",
    "for i in range(N):\n",
    "    mle_bi[i,:] = bi_gram[i,:]/c_w[i]\n",
    "    for j in range(N):\n",
    "        if bi_gram[i,j] != 0:\n",
    "            mle_tri[i,j,:] = tri_gram[i,j,:]/bi_gram[i,j]"
   ]
  },
  {
   "cell_type": "code",
   "execution_count": 9,
   "metadata": {},
   "outputs": [],
   "source": [
    "def Generator(model_name, mle, mle_bi):\n",
    "    N = len(mle_bi)\n",
    "    if model_name =='unigram':\n",
    "        uni_sent_gen = []\n",
    "        while(True):\n",
    "            ind = np.random.choice(range(N),p=mle)\n",
    "            w = vocab[ind]\n",
    "            uni_sent_gen.append(w)\n",
    "            if w=='</s>':\n",
    "                break\n",
    "        return ' '.join(uni_sent_gen)\n",
    "    if model_name =='bigram':\n",
    "        bi_sent_gen = ['<s>']\n",
    "        s_ind_i = vocab_ind['<s>']\n",
    "        while(True):\n",
    "            ind = np.random.choice(range(N),p=mle[s_ind_i,:])\n",
    "            w = vocab[ind]\n",
    "            bi_sent_gen.append(w)\n",
    "            if w=='</s>':\n",
    "                break\n",
    "            else:\n",
    "                s_ind_i = ind\n",
    "        return ' '.join(bi_sent_gen)\n",
    "                \n",
    "    elif model_name =='trigram':\n",
    "        tri_sent_gen = ['<s>']\n",
    "        s_ind_j = vocab_ind['<s>']\n",
    "        while(True):\n",
    "            if len(tri_sent_gen) == 1:\n",
    "                ind = np.random.choice(range(N),p=mle_bi[s_ind_j,:])\n",
    "            else:\n",
    "                ind = np.random.choice(range(N),p=mle[s_ind_i,s_ind_j,:])\n",
    "            w = vocab[ind]\n",
    "            tri_sent_gen.append(w)\n",
    "            if w=='</s>':\n",
    "                break\n",
    "            else:\n",
    "                s_ind_i = s_ind_j\n",
    "                s_ind_j = ind\n",
    "        return ' '.join(tri_sent_gen)\n",
    "        "
   ]
  },
  {
   "cell_type": "code",
   "execution_count": 10,
   "metadata": {},
   "outputs": [],
   "source": [
    "uni_sent_gen={}\n",
    "bi_sent_gen={}\n",
    "tri_sent_gen={}\n",
    "for i in range(5):\n",
    "    uni_sent_gen[i+1] = Generator('unigram', mle_uni, mle_bi)\n",
    "    bi_sent_gen[i+1] = Generator('bigram', mle_bi,mle_bi)\n",
    "    tri_sent_gen[i+1] = Generator('trigram', mle_tri, mle_bi)"
   ]
  },
  {
   "cell_type": "code",
   "execution_count": 11,
   "metadata": {},
   "outputs": [
    {
     "name": "stdout",
     "output_type": "stream",
     "text": [
      "Sentences generated from unigram:\n",
      "\n",
      "Sentence 1:\n",
      "\n",
      "since to lady same the sentences unsophisticated often the that it you and either i </s>\n",
      "\n",
      "\n",
      "Sentence 2:\n",
      "\n",
      "sad her his that poor but wickham view suppose knocks have and thankful </s>\n",
      "\n",
      "\n",
      "Sentence 3:\n",
      "\n",
      "looked the and extremely but last very </s>\n",
      "\n",
      "\n",
      "Sentence 4:\n",
      "\n",
      "pleasure the excessively began humph a <s> give them to kicking see the looked and be to perverseness quiet of that his <s> a i less them publication <s> anger first you proposal <s> folding as charming without i his hall <s> he had be ornament on any hoped the the was civil anything their wentworth only of and </s>\n",
      "\n",
      "\n",
      "Sentence 5:\n",
      "\n",
      "her not character <s> it it told be it some </s>\n",
      "\n",
      "\n",
      "\n",
      "Sentences generated from bigram:\n",
      "\n",
      "Sentence 1:\n",
      "\n",
      "<s> but the conversation she curtsies off the office of his ostensible reason to himself to live it would keep their dependent to the mysterious </s>\n",
      "\n",
      "\n",
      "Sentence 2:\n",
      "\n",
      "<s> they were expected the family </s>\n",
      "\n",
      "\n",
      "Sentence 3:\n",
      "\n",
      "<s> henry crawford having every young men eyes and with a wish that anything could picture which accounted for i never talks of the best that could be his brow of delaying to sleep a fortnight he should approach to the houses after a much i am sure i charge struck </s>\n",
      "\n",
      "\n",
      "Sentence 4:\n",
      "\n",
      "<s> with those which always with fanny if i am sure said every day the tribute of life </s>\n",
      "\n",
      "\n",
      "Sentence 5:\n",
      "\n",
      "<s> it was at his great acquisition this </s>\n",
      "\n",
      "\n",
      "\n",
      "Sentences generated from trigram:\n",
      "\n",
      "Sentence 1:\n",
      "\n",
      "<s> elizabeth listened wondered doubted and was miserable </s>\n",
      "\n",
      "\n",
      "Sentence 2:\n",
      "\n",
      "<s> she might return to dinner and the officers names and connections </s>\n",
      "\n",
      "\n",
      "Sentence 3:\n",
      "\n",
      "<s> he longed to dance half the people i believe </s>\n",
      "\n",
      "\n",
      "Sentence 4:\n",
      "\n",
      "<s> chapter xlii the prices were just returning to her found a more sorrowing heart than i can scarcely command myself at this time to express her concern by silent attention obliged her to cry in peace and comfort </s>\n",
      "\n",
      "\n",
      "Sentence 5:\n",
      "\n",
      "<s> we will have a great regard for his great object was accomplished in spite of all that i may perhaps be the consequence </s>\n",
      "\n",
      "\n"
     ]
    }
   ],
   "source": [
    "print('Sentences generated from unigram:\\n')\n",
    "for i in range(5):\n",
    "    print('Sentence '+str(i+1)+':\\n')\n",
    "    print(uni_sent_gen[i+1])\n",
    "    print('\\n')\n",
    "print('\\nSentences generated from bigram:\\n')\n",
    "for i in range(5):\n",
    "    print('Sentence '+str(i+1)+':\\n')\n",
    "    print(bi_sent_gen[i+1])   \n",
    "    print('\\n')\n",
    "print('\\nSentences generated from trigram:\\n')\n",
    "for i in range(5):\n",
    "    print('Sentence '+str(i+1)+':\\n')\n",
    "    print(tri_sent_gen[i+1])\n",
    "    print('\\n')"
   ]
  },
  {
   "cell_type": "code",
   "execution_count": 12,
   "metadata": {},
   "outputs": [],
   "source": [
    "test_sent_words=[]\n",
    "test_words={}\n",
    "test_mod_sent_list=[]\n",
    "for s in test_data:\n",
    "    w_list=['<s>']\n",
    "    temp = word_tokenize(s)\n",
    "    for w in temp:\n",
    "        if w.isalpha() or (('-' in w) and len(w)>1):\n",
    "            w_list.append(w)\n",
    "            if w not in words:\n",
    "                words[w] = 1\n",
    "            else:\n",
    "                words[w]+=1\n",
    "    w_list.append('</s>')\n",
    "    test_sent_words.append(w_list)\n",
    "    test_mod_sent_list.append(' '.join(w_list))\n",
    "    \n",
    "test_words['<s>']=len(train_data)\n",
    "test_words['</s>']=len(train_data)"
   ]
  },
  {
   "cell_type": "code",
   "execution_count": 15,
   "metadata": {},
   "outputs": [],
   "source": [
    "unigram_perp = 1.0\n",
    "bigram_perp = 1.0\n",
    "trigram_perp = 1.0\n",
    "for s in test_sent_words[:1000]:\n",
    "    for w in s:\n",
    "        try: \n",
    "            if mle_uni[vocab_ind[w]] == 0:\n",
    "                print(mle_uni[vocab_ind[w]])\n",
    "                continue\n",
    "#         unigram_prob*=mle_uni[vocab_ind[w]]\n",
    "            unigram_perp*=1/(mle_uni[vocab_ind[w]]**(1/N))\n",
    "        except:\n",
    "            continue\n",
    "    grams = list(ngrams(s,2))\n",
    "    for g in grams:\n",
    "        try: \n",
    "            w_i = vocab_ind[g[0]]\n",
    "            w_j = vocab_ind[g[1]]\n",
    "            if mle_bi[w_i,w_j] == 0:\n",
    "                continue\n",
    "            bigram_perp*=1/(mle_bi[w_i,w_j]**(1/N))\n",
    "        except:\n",
    "            continue\n",
    "    grams = list(ngrams(s,3))\n",
    "    for g in grams:\n",
    "        try:\n",
    "            w_i = vocab_ind[g[0]]\n",
    "            w_j = vocab_ind[g[1]]\n",
    "            w_k = vocab_ind[g[2]]\n",
    "            if mle_tri[w_i,w_j,w_k] == 0:\n",
    "                continue\n",
    "            trigram_perp*=1/(mle_tri[w_i,w_j,w_k]**(1/N))\n",
    "        except:\n",
    "            continue"
   ]
  },
  {
   "cell_type": "code",
   "execution_count": 16,
   "metadata": {},
   "outputs": [
    {
     "name": "stdout",
     "output_type": "stream",
     "text": [
      "Perplexity of unigram: 5028.711469886763\n",
      "Perplexity of bigram: 106.34052735880084\n",
      "Perplexity of trigram: 4.159985713832674\n"
     ]
    }
   ],
   "source": [
    "print('Perplexity of unigram:',unigram_perp)\n",
    "print('Perplexity of bigram:',bigram_perp)\n",
    "print('Perplexity of trigram:',trigram_perp)"
   ]
  },
  {
   "cell_type": "markdown",
   "metadata": {},
   "source": [
    "It can be seen from the perplexities that the as n increase in n-gram the performance is better."
   ]
  },
  {
   "cell_type": "markdown",
   "metadata": {},
   "source": [
    "Reference:\n",
    "    https://medium.com/@shivambansal36/language-modelling-text-generation-using-lstms-deep-learning-for-nlp-ed36b224b275\n",
    "Collaborated with Prateek Chennuri(161100)"
   ]
  }
 ],
 "metadata": {
  "kernelspec": {
   "display_name": "Python 3",
   "language": "python",
   "name": "python3"
  },
  "language_info": {
   "codemirror_mode": {
    "name": "ipython",
    "version": 3
   },
   "file_extension": ".py",
   "mimetype": "text/x-python",
   "name": "python",
   "nbconvert_exporter": "python",
   "pygments_lexer": "ipython3",
   "version": "3.6.8"
  }
 },
 "nbformat": 4,
 "nbformat_minor": 2
}
