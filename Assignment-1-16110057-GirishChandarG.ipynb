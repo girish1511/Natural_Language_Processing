{
 "cells": [
  {
   "cell_type": "code",
   "execution_count": 1,
   "metadata": {},
   "outputs": [],
   "source": [
    "import pandas as pd\n",
    "from nltk.tokenize import TweetTokenizer\n",
    "import numpy as np\n",
    "import matplotlib.pyplot as plt"
   ]
  },
  {
   "cell_type": "code",
   "execution_count": 2,
   "metadata": {},
   "outputs": [],
   "source": [
    "data = pd.read_csv('tweets-dataset.csv')"
   ]
  },
  {
   "cell_type": "markdown",
   "metadata": {},
   "source": [
    "# Question 1"
   ]
  },
  {
   "cell_type": "code",
   "execution_count": 3,
   "metadata": {},
   "outputs": [],
   "source": [
    "tokens = []\n",
    "fl = 0\n",
    "t = TweetTokenizer()\n",
    "for se in data.Sentence:\n",
    "    to = t.tokenize(se)\n",
    "    for x in to:\n",
    "        for y in x:\n",
    "            if y.isalpha():\n",
    "                fl = 1\n",
    "                break\n",
    "        if fl:\n",
    "            tokens.append(x.lower())\n",
    "            fl = 0"
   ]
  },
  {
   "cell_type": "code",
   "execution_count": 4,
   "metadata": {},
   "outputs": [],
   "source": [
    "token_freq = {}\n",
    "for s in tokens:\n",
    "    try:\n",
    "        token_freq[s] +=1\n",
    "    except:\n",
    "        token_freq[s] = 1\n",
    "        "
   ]
  },
  {
   "cell_type": "code",
   "execution_count": 5,
   "metadata": {},
   "outputs": [],
   "source": [
    "types=[]\n",
    "lengths = np.zeros(len(token_freq))\n",
    "freq=np.zeros(len(token_freq))\n",
    "count = 0\n",
    "for key,val in token_freq.items():\n",
    "    types.append(key)\n",
    "    freq[count] = val\n",
    "    lengths[count] = len(key)\n",
    "    count+=1"
   ]
  },
  {
   "cell_type": "code",
   "execution_count": 6,
   "metadata": {},
   "outputs": [],
   "source": [
    "no_of_tokens = len(tokens)\n",
    "no_of_types = len(types)\n",
    "ttr = no_of_types/no_of_tokens"
   ]
  },
  {
   "cell_type": "code",
   "execution_count": 7,
   "metadata": {},
   "outputs": [
    {
     "name": "stdout",
     "output_type": "stream",
     "text": [
      "Number of Tokens:  312290\n",
      "Number of Types:  41296\n",
      "TTR:  0.1322360626340901\n"
     ]
    }
   ],
   "source": [
    "print(\"Number of Tokens: \", no_of_tokens)\n",
    "print(\"Number of Types: \", no_of_types)\n",
    "print(\"TTR: \",ttr)"
   ]
  },
  {
   "cell_type": "markdown",
   "metadata": {},
   "source": [
    "# Question 2"
   ]
  },
  {
   "cell_type": "code",
   "execution_count": 9,
   "metadata": {},
   "outputs": [],
   "source": [
    "freq_sort_ind = np.argsort(freq)"
   ]
  },
  {
   "cell_type": "code",
   "execution_count": 10,
   "metadata": {},
   "outputs": [],
   "source": [
    "# for i in range(1,len(types)+1):\n",
    "#     print(types[freq_sort_ind[-i]], freq[freq_sort_ind[-i]])"
   ]
  },
  {
   "cell_type": "code",
   "execution_count": 11,
   "metadata": {},
   "outputs": [],
   "source": [
    "words = ['sab','bas','time','day','like','just','love','kaise','happy','kahan']\n",
    "m = [17,16,15,10,11,12,10,5,4,4]#number of meanings of the words"
   ]
  },
  {
   "cell_type": "code",
   "execution_count": 12,
   "metadata": {},
   "outputs": [],
   "source": [
    "root_freq = []\n",
    "root_rank = []\n",
    "for w in words:\n",
    "    root_freq.append(np.sqrt(freq[types.index(w)]))\n",
    "    root_rank.append(1/(np.sqrt(types.index(w)+1)))"
   ]
  },
  {
   "cell_type": "code",
   "execution_count": 13,
   "metadata": {},
   "outputs": [
    {
     "data": {
      "image/png": "[encoded data removed]",
      "text/plain": [
       "<Figure size 432x288 with 1 Axes>"
      ]
     },
     "metadata": {
      "needs_background": "light"
     },
     "output_type": "display_data"
    }
   ],
   "source": [
    "plt.plot(root_freq,m)\n",
    "# plt.plot(m,root_rank)\n",
    "plt.xlabel('Root of Frequency of words')\n",
    "plt.ylabel('Number of meaning of word')\n",
    "plt.title('Zipf\\'s law (Freq vs length)')\n",
    "plt.show()"
   ]
  },
  {
   "cell_type": "markdown",
   "metadata": {},
   "source": [
    "It can be observed that zipf's law is not strictly obeyed."
   ]
  },
  {
   "cell_type": "code",
   "execution_count": 14,
   "metadata": {},
   "outputs": [
    {
     "data": {
      "image/png": "[encoded data removed]",
      "text/plain": [
       "<Figure size 432x288 with 1 Axes>"
      ]
     },
     "metadata": {
      "needs_background": "light"
     },
     "output_type": "display_data"
    }
   ],
   "source": [
    "# plt.plot(range(len(freq_sort_ind[::-1])),freq[freq_sort_ind[::-1]][:]*lengths[freq_sort_ind[::-1]][:])\n",
    "plt.plot(freq[freq_sort_ind[::-1]][100:],lengths[freq_sort_ind[::-1]][100:])\n",
    "plt.ylabel('Frequency Length of the word')\n",
    "plt.xlabel('Length of the word')\n",
    "plt.title('Zipf\\'s law (Freq vs length)')\n",
    "plt.show()"
   ]
  },
  {
   "cell_type": "markdown",
   "metadata": {},
   "source": [
    "We can observe that freq vs length graph is approximately hyperbolic which implies that f is inversely proportional to l. Below we can that the freq\\*length is approximately constant."
   ]
  },
  {
   "cell_type": "code",
   "execution_count": 15,
   "metadata": {},
   "outputs": [
    {
     "name": "stdout",
     "output_type": "stream",
     "text": [
      "Freq*length values for 10 words:\n",
      "[16. 48. 56. 40. 32. 24. 48. 40. 80. 24. 40. 64. 24. 40. 16. 56. 56. 32.\n",
      " 64. 48. 56. 72. 32. 48. 48. 40. 64. 48. 56. 40. 40. 40. 24. 48. 64. 32.\n",
      " 40. 80. 32. 64. 64. 24. 48. 40. 56. 24. 16. 40. 40. 40.]\n"
     ]
    }
   ],
   "source": [
    "print(\"Freq*length values for 10 words:\")\n",
    "print(freq[freq_sort_ind[::-1]][4050:4100]*lengths[freq_sort_ind[::-1]][4050:4100])"
   ]
  },
  {
   "cell_type": "markdown",
   "metadata": {},
   "source": [
    "# Question 3"
   ]
  },
  {
   "cell_type": "code",
   "execution_count": 16,
   "metadata": {},
   "outputs": [],
   "source": [
    "n=[]\n",
    "v=[]\n",
    "for i in range(1,no_of_tokens,100):\n",
    "    n.append(len(tokens[0:i]))\n",
    "    v.append(len(set(tokens[0:i])))"
   ]
  },
  {
   "cell_type": "code",
   "execution_count": 18,
   "metadata": {},
   "outputs": [],
   "source": [
    "p = np.polyfit(np.log10(n),np.log10(v),1)"
   ]
  },
  {
   "cell_type": "code",
   "execution_count": 19,
   "metadata": {},
   "outputs": [],
   "source": [
    "k = 10**(p[1])\n",
    "beta = p[0]\n",
    "v_new = k*(n**beta)"
   ]
  },
  {
   "cell_type": "code",
   "execution_count": 20,
   "metadata": {},
   "outputs": [
    {
     "data": {
      "image/png": "[encoded data removed]",
      "text/plain": [
       "<Figure size 432x288 with 1 Axes>"
      ]
     },
     "metadata": {
      "needs_background": "light"
     },
     "output_type": "display_data"
    }
   ],
   "source": [
    "plt.plot(n,v)\n",
    "plt.plot(n,v_new)\n",
    "plt.legend(['Observed', 'Theoretical'])\n",
    "plt.title('Heap\\'s law(k='+str(format(k,'.4f'))+', beta='+str(format(beta,'.4f'))+')')\n",
    "plt.xlabel('Corpus size(N)')\n",
    "plt.ylabel('Vocabulary size(V)')\n",
    "plt.show()"
   ]
  },
  {
   "cell_type": "markdown",
   "metadata": {},
   "source": [
    "# References\n",
    "https://www.nltk.org/api/nltk.tokenize.html\n",
    "\n",
    "https://stackoverflow.com/questions/48630248/word-tokenize-twitter-data\n"
   ]
  },
  {
   "cell_type": "code",
   "execution_count": null,
   "metadata": {},
   "outputs": [],
   "source": []
  }
 ],
 "metadata": {
  "kernelspec": {
   "display_name": "Python 3",
   "language": "python",
   "name": "python3"
  },
  "language_info": {
   "codemirror_mode": {
    "name": "ipython",
    "version": 3
   },
   "file_extension": ".py",
   "mimetype": "text/x-python",
   "name": "python",
   "nbconvert_exporter": "python",
   "pygments_lexer": "ipython3",
   "version": "3.6.8"
  }
 },
 "nbformat": 4,
 "nbformat_minor": 2
}
